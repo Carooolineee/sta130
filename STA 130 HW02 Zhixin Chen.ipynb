{
 "cells": [
  {
   "cell_type": "markdown",
   "id": "99834709",
   "metadata": {},
   "source": [
    "#Question 1\n",
    "The Monty Hall simulation code provided simulates the classic Monty Hall problem, where a contestant chooses one of three doors, one of which hides a car, while the others hide goats. After the contestant picks a door, the host (Monty Hall) reveals a goat behind one of the remaining doors, and the contestant is given the option to stick with their original choice or switch to the other unopened door.\n",
    "\n",
    "Here’s a step-by-step explanation of the provided code:\n",
    "\n",
    "1. **Door setup and initial choice**:\n",
    "   - `all_door_options = (1,2,3)` sets up the three doors.\n",
    "   - `my_door_choice = 1` simulates always choosing door 1 initially.\n",
    "   - `i_won = 0` initializes the win counter.\n",
    "   - `reps = 100000` sets the number of repetitions for the simulation.\n",
    "\n",
    "2. **Simulation loop**:\n",
    "   - The simulation is run `reps` times. For each iteration, a winning door (`secret_winning_door`) is randomly chosen.\n",
    "   - The list of all doors (`all_door_options_list`) is created, and the secret winning door is removed from this list.\n",
    "   - The contestant's initial choice is also removed from the list if it’s not the winning door, leaving only the doors that could be shown as goats.\n",
    "\n",
    "3. **Goat door reveal**:\n",
    "   - Monty reveals a goat behind one of the remaining doors (`goat_door_reveal`).\n",
    "   - The door revealed by Monty is removed from the list of remaining doors.\n",
    "\n",
    "4. **Swapping strategy**:\n",
    "   - The contestant switches to the other remaining door.\n",
    "   - If the remaining door is the winning door (`my_door_choice == secret_winning_door`), the win counter `i_won` is incremented.\n",
    "\n",
    "5. **Result**:\n",
    "   - The result is the proportion of wins out of all repetitions, representing the probability of winning if you switch doors.\n",
    "\n",
    "The last line, `i_won/reps`, gives the win rate when following the switching strategy.\n",
    "\n",
    "In this simulation, the contestant should win around 66.67% of the time if they always switch, since switching leads to a 2/3 probability of winning."
   ]
  },
  {
   "cell_type": "code",
   "execution_count": null,
   "id": "7fc5a873",
   "metadata": {},
   "outputs": [],
   "source": [
    "#Question 2\n",
    "import numpy as np\n",
    "\n",
    "all_door_options = {1, 2, 3}  # Use a set instead of tuple\n",
    "initial_choice = 1  # Always choose door 1\n",
    "i_won = 0\n",
    "reps = 100000\n",
    "\n",
    "for i in range(reps):\n",
    "    secret_winning_door = np.random.choice(list(all_door_options))\n",
    "\n",
    "    # Remaining doors after choosing\n",
    "    remaining_doors = all_door_options - {secret_winning_door, initial_choice}\n",
    "    \n",
    "    # Monty reveals a goat (a non-winning door)\n",
    "    goat_door_reveal = np.random.choice(list(remaining_doors))\n",
    "    \n",
    "    # The remaining door after the reveal is the one we switch to\n",
    "    switch_to_door = (all_door_options - {goat_door_reveal, initial_choice}).pop()\n",
    "\n",
    "    # Check if the switched door is the winning door\n",
    "    if switch_to_door == secret_winning_door:\n",
    "        i_won += 1\n",
    "\n",
    "# Probability of winning by switching\n",
    "i_won / reps\n",
    "#I prefer the second code snippet because it is clear and simple. It avoids unnecessary complexity by leveraging collection operations, making logic easier to follow and code easier to maintain. The intention behind each action is clear, which helps with readability and interpretability."
   ]
  },
  {
   "cell_type": "code",
   "execution_count": 2,
   "id": "3b001b75",
   "metadata": {},
   "outputs": [
    {
     "data": {
      "text/plain": [
       "0.66637"
      ]
     },
     "execution_count": 2,
     "metadata": {},
     "output_type": "execute_result"
    }
   ],
   "source": [
    "#Question 3\n",
    "import numpy as np\n",
    "\n",
    "all_door_options = {1, 2, 3}\n",
    "initial_choice = 1\n",
    "i_won = 0\n",
    "reps = 100000\n",
    "\n",
    "for i in range(reps):\n",
    "    secret_winning_door = np.random.choice(list(all_door_options))\n",
    "\n",
    "    # Remaining doors after choosing\n",
    "    remaining_doors = all_door_options - {secret_winning_door, initial_choice}\n",
    "    \n",
    "    # Monty reveals a goat (a non-winning door)\n",
    "    goat_door_reveal = np.random.choice(list(remaining_doors))\n",
    "    \n",
    "    # The remaining door after the reveal is the one we switch to\n",
    "    switch_to_door = (all_door_options - {goat_door_reveal, initial_choice}).pop()\n",
    "\n",
    "    # Check if the switched door is the winning door\n",
    "    if switch_to_door == secret_winning_door:\n",
    "        i_won += 1\n",
    "\n",
    "# Probability of winning by switching\n",
    "i_won / reps\n"
   ]
  },
  {
   "cell_type": "markdown",
   "id": "22990af5",
   "metadata": {},
   "source": [
    "#Question 3 Summary Text Version\n",
    "Monty Hall Simulation Code Improvement\n",
    "\n",
    "Initial Code Review:\n",
    "You provided a simulation for the Monty Hall problem, where a contestant chooses one of three doors, and after one non-winning door is revealed, they have the option to switch to the remaining door.\n",
    "The code uses a for loop to simulate this process 100,000 times, tracking the number of wins if the contestant always switches doors.\n",
    "\n",
    "Feedback and Suggested Improvements:\n",
    "I reviewed the initial code, focusing on areas for improvement in readability and efficiency.\n",
    "Noted that the code involves unnecessary list conversions and uses a try-except block for handling door removal, which can be simplified.\n",
    "\n",
    "Proposed Streamlined Version:\n",
    "Suggested using set operations to manage the doors more effectively, eliminating the need for try-except and list conversion.\n",
    "Streamlined the process by removing doors from the set directly and simplifying the logic of revealing a goat door and switching doors.\n",
    "The revised loop now operates using set subtraction to make the code more explicit and readable.\n",
    "\n",
    "Key Takeaways:\n",
    "The new code is more efficient, avoids unnecessary conversions and complex operations, and uses set logic to handle door choices.\n",
    "The logic is clearer, making it easier to understand and debug.\n",
    "The final win rate after switching should still hover around the expected 66.67%, consistent with the classic Monty Hall problem solution."
   ]
  },
  {
   "cell_type": "code",
   "execution_count": null,
   "id": "095279c1",
   "metadata": {},
   "outputs": [],
   "source": [
    "# QUestion 3 Code Version\n",
    "import numpy as np\n",
    "\n",
    "all_door_options = {1, 2, 3}\n",
    "initial_choice = 1\n",
    "i_won = 0\n",
    "reps = 100000\n",
    "\n",
    "for i in range(reps):\n",
    "    secret_winning_door = np.random.choice(list(all_door_options))\n",
    "\n",
    "    # Remaining doors after choosing\n",
    "    remaining_doors = all_door_options - {secret_winning_door, initial_choice}\n",
    "    \n",
    "    # Monty reveals a goat (a non-winning door)\n",
    "    goat_door_reveal = np.random.choice(list(remaining_doors))\n",
    "    \n",
    "    # The remaining door after the reveal is the one we switch to\n",
    "    switch_to_door = (all_door_options - {goat_door_reveal, initial_choice}).pop()\n",
    "\n",
    "    # Check if the switched door is the winning door\n",
    "    if switch_to_door == secret_winning_door:\n",
    "        i_won += 1\n",
    "\n",
    "# Probability of winning by switching\n",
    "i_won / reps\n",
    " \n",
    "# My link to chat log histories: https://chatgpt.com/share/66eb8474-a2a4-800b-9540-222d58e81662"
   ]
  },
  {
   "cell_type": "markdown",
   "id": "850e5b8b",
   "metadata": {},
   "source": [
    "#Question 4 \n",
    "\n",
    "We discussed a snippet of code for a Markovian chatbot that tracks word sequences to predict the next word based on the current one. The original code used standard dictionaries to count word occurrences and the frequency of subsequent words. I explained the code's functionality and suggested a more concise version using defaultdict from the collections module to simplify the code by removing the need for manual initialization checks.\n",
    "\n",
    "Here is the lint to chat log histories: https://chatgpt.com/share/66eb84bf-df74-800b-876a-f272d85596bc"
   ]
  },
  {
   "cell_type": "markdown",
   "id": "cceafd72",
   "metadata": {},
   "source": [
    "#Question 6\n",
    "My experience with ChatBots about the Monty Hall problem interacting with Markovian code was generally very good, except for some mistakes he made.\n",
    "The Chatbot answered each question in about 10 seconds and answered almost all the questions correctly. On the Monty Hall problem,  ChatBot provide me with a clear breakdown which effectively help me to understand the answer of the Monty Hall problem. On Msrkovian Code, ChatBot helps me to understand Msrkovian through providing the explaination of each line's code.\n",
    "While Chatbots are helpful in general, there are also some problems. But the ChatBot was answering my Monty Hall question, and I was a little confused by his answer, and then I needed to seek further explanation. The ChatBot needed very clear guidance to get the answer I wanted.\n",
    "Chatbots are very effective at answering and providing code, and they generate accurate code efficiently. But they are more likely to be wrong on slightly more complex topics. Despite their shortcomings, chatbots can still help us answer most of our code questions."
   ]
  },
  {
   "cell_type": "markdown",
   "id": "88989ac6",
   "metadata": {},
   "source": [
    "#Question 7\n",
    "Since starting this course and interacting with ChatBot, I have seen a lot of changes in ChatBot's development of AI-driven AIDS in the context of learning coding, statistics, and data science.\n",
    "ChatBot provided me with many helpful answers during my study of this course, which helped me to better understand this course. Secondly, since I started using ChatBot, my learning efficiency has become more efficient. When I did not use ChatBot in high school, my learning efficiency was very low. Because I need to think for a long time to get the right answer to many questions. Now, however, when I type a question into the ChatBot, it gives me a concise and understandable answer in a very short time. This not only helped me to master the knowledge faster, but also helped me to save more time.\n",
    "When I did not use ChatBot in high school, my learning efficiency was very low. Because I need to think for a long time to get the right answer to many questions.\n",
    "ChatBot, however, there are still many limitations, I have to give it a very clear guidance to get the answer I wanted. Also, sometimes the ChatBot doesn't understand my questions very well, which can lead to misunderstandings.\n",
    "Overall, the experience of using ChatBot to learn this course was very good. Although it still has its limitations, it has greatly improved my learning efficiency."
   ]
  }
 ],
 "metadata": {
  "kernelspec": {
   "display_name": "Python 3 (ipykernel)",
   "language": "python",
   "name": "python3"
  },
  "language_info": {
   "codemirror_mode": {
    "name": "ipython",
    "version": 3
   },
   "file_extension": ".py",
   "mimetype": "text/x-python",
   "name": "python",
   "nbconvert_exporter": "python",
   "pygments_lexer": "ipython3",
   "version": "3.11.6"
  }
 },
 "nbformat": 4,
 "nbformat_minor": 5
}
